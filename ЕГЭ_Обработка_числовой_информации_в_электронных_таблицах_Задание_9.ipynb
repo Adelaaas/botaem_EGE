{
  "nbformat": 4,
  "nbformat_minor": 0,
  "metadata": {
    "colab": {
      "provenance": []
    },
    "kernelspec": {
      "name": "python3",
      "display_name": "Python 3"
    },
    "language_info": {
      "name": "python"
    }
  },
  "cells": [
    {
      "cell_type": "markdown",
      "source": [
        "https://drive.google.com/drive/folders/15H3k8p680eToSkxJGWwe1WPschKYH864?usp=sharing\n"
      ],
      "metadata": {
        "id": "vrLCl3vyJIJB"
      }
    },
    {
      "cell_type": "markdown",
      "source": [
        "# 1.\n",
        "\n",
        "Откройте файл электронной таблицы, содержащей в каждой строке три натуральных числа.\n",
        "\n",
        "Определите количество строк таблицы, в которых разность максимального и минимального чисел больше оставшегося числа."
      ],
      "metadata": {
        "id": "aLdfPTVL3DXd"
      }
    },
    {
      "cell_type": "code",
      "execution_count": null,
      "metadata": {
        "id": "XyGEMKyr3B6l",
        "colab": {
          "base_uri": "https://localhost:8080/"
        },
        "outputId": "ffa011b8-c0aa-4444-a115-c7eda23fda25"
      },
      "outputs": [
        {
          "output_type": "execute_result",
          "data": {
            "text/plain": [
              "[['90', '71', '71'],\n",
              " ['89', '44', '51'],\n",
              " ['65', '27', '53'],\n",
              " ['68', '25', '94'],\n",
              " ['68', '61', '47'],\n",
              " ['44', '67', '60'],\n",
              " ['86', '37', '77']]"
            ]
          },
          "metadata": {},
          "execution_count": 3
        }
      ],
      "source": [
        "nums = []\n",
        "\n",
        "with open('/content/9 (1).txt') as f:\n",
        "    for line in f:\n",
        "        nums.append(line.split())\n",
        "\n",
        "nums[:7]"
      ]
    },
    {
      "cell_type": "code",
      "source": [
        "nums = [list(map(int, i)) for i in nums]\n",
        "nums[:7]"
      ],
      "metadata": {
        "colab": {
          "base_uri": "https://localhost:8080/"
        },
        "id": "0sruzMcN62u0",
        "outputId": "efc7b703-d08e-4284-c324-f1b0619637df"
      },
      "execution_count": null,
      "outputs": [
        {
          "output_type": "execute_result",
          "data": {
            "text/plain": [
              "[[90, 71, 71],\n",
              " [89, 44, 51],\n",
              " [65, 27, 53],\n",
              " [68, 25, 94],\n",
              " [68, 61, 47],\n",
              " [44, 67, 60],\n",
              " [86, 37, 77]]"
            ]
          },
          "metadata": {},
          "execution_count": 6
        }
      ]
    },
    {
      "cell_type": "code",
      "source": [
        "numbers = [90, 71, 71]\n",
        "max_value = max(numbers)\n",
        "print(max_value)"
      ],
      "metadata": {
        "colab": {
          "base_uri": "https://localhost:8080/"
        },
        "id": "UKUBye3G7QlL",
        "outputId": "e9f9609f-9994-4bcf-ea6b-da8b10c1de2e"
      },
      "execution_count": null,
      "outputs": [
        {
          "output_type": "stream",
          "name": "stdout",
          "text": [
            "90\n"
          ]
        }
      ]
    },
    {
      "cell_type": "code",
      "source": [
        "numbers = [90, 71, 71]\n",
        "min_value = min(numbers)\n",
        "print(min_value)"
      ],
      "metadata": {
        "colab": {
          "base_uri": "https://localhost:8080/"
        },
        "id": "b7RZiyLM8Ss4",
        "outputId": "27a7118a-e087-4be3-fbbc-d966265e0d92"
      },
      "execution_count": null,
      "outputs": [
        {
          "output_type": "stream",
          "name": "stdout",
          "text": [
            "71\n"
          ]
        }
      ]
    },
    {
      "cell_type": "code",
      "source": [
        "cnt = 0\n",
        "\n",
        "for i in nums:\n",
        "    # разность максимального и минимального чисел больше оставшегося числа\n",
        "    # i - это список из трех чисел\n",
        "    max_num = max(i)\n",
        "    min_num = min(i)\n",
        "    other_num = sum(i) - max_num - min_num\n",
        "    if max_num - min_num > other_num:\n",
        "       cnt += 1\n",
        "\n",
        "cnt\n",
        "# 1422"
      ],
      "metadata": {
        "colab": {
          "base_uri": "https://localhost:8080/"
        },
        "id": "og_JsuL87ISN",
        "outputId": "6c77d7ca-e98a-4c11-8a93-5ddb74f070ef"
      },
      "execution_count": null,
      "outputs": [
        {
          "output_type": "execute_result",
          "data": {
            "text/plain": [
              "1422"
            ]
          },
          "metadata": {},
          "execution_count": 17
        }
      ]
    },
    {
      "cell_type": "markdown",
      "source": [
        "# 2.\n",
        "\n",
        "Откройте файл электронной таблицы, содержащей в каждой строке три натуральных числа.\n",
        "\n",
        "Определите количество строк таблицы, в которых медианное число чётное."
      ],
      "metadata": {
        "id": "sX8bGiLi8__5"
      }
    },
    {
      "cell_type": "code",
      "source": [
        "nums = []\n",
        "\n",
        "with open('/content/9 (1).txt') as f:\n",
        "    for line in f:\n",
        "        nums.append(list(map(int, line.split())))\n",
        "\n",
        "nums[:7]"
      ],
      "metadata": {
        "colab": {
          "base_uri": "https://localhost:8080/"
        },
        "id": "RbQfkq-o9JWU",
        "outputId": "c97e92e7-6057-4785-c7ab-2b67000ca198"
      },
      "execution_count": null,
      "outputs": [
        {
          "output_type": "execute_result",
          "data": {
            "text/plain": [
              "[[90, 71, 71],\n",
              " [89, 44, 51],\n",
              " [65, 27, 53],\n",
              " [68, 25, 94],\n",
              " [68, 61, 47],\n",
              " [44, 67, 60],\n",
              " [86, 37, 77]]"
            ]
          },
          "metadata": {},
          "execution_count": 21
        }
      ]
    },
    {
      "cell_type": "code",
      "source": [
        "import statistics\n",
        "\n",
        "statistics.median([1,2,3,4,5])"
      ],
      "metadata": {
        "colab": {
          "base_uri": "https://localhost:8080/"
        },
        "id": "a-Uw3lboJ-5P",
        "outputId": "15febd4c-13cc-408b-fdeb-8543ca00f086"
      },
      "execution_count": null,
      "outputs": [
        {
          "output_type": "execute_result",
          "data": {
            "text/plain": [
              "3"
            ]
          },
          "metadata": {},
          "execution_count": 5
        }
      ]
    },
    {
      "cell_type": "code",
      "source": [
        "cnt = 0\n",
        "\n",
        "for i in nums:\n",
        "    sorted_list = sorted(i)\n",
        "    median_value = sorted_list[len(sorted_list) // 2]\n",
        "    if median_value % 2 == 0:\n",
        "        cnt += 1\n",
        "\n",
        "cnt\n",
        "# 1519"
      ],
      "metadata": {
        "colab": {
          "base_uri": "https://localhost:8080/"
        },
        "id": "q0lqa9_K9U05",
        "outputId": "98150fb6-cb5a-4188-c8e6-99d87e58d988"
      },
      "execution_count": null,
      "outputs": [
        {
          "output_type": "execute_result",
          "data": {
            "text/plain": [
              "1519"
            ]
          },
          "metadata": {},
          "execution_count": 22
        }
      ]
    },
    {
      "cell_type": "markdown",
      "source": [
        "# 3.\n",
        "\n",
        "Откройте файл электронной таблицы, в каждой строке которой семь натуральных чисел. Определите количество строк таблицы с числами, для которых выполнены все условия:\n",
        "\n",
        "- в строке не менее двух чётных и не менее двух нечётных чисел\n",
        "- утроенная сумма нечётных чисел больше произведения чётных\n",
        "\n",
        "В ответе запишите только число."
      ],
      "metadata": {
        "id": "eXl5Tzvs96IN"
      }
    },
    {
      "cell_type": "code",
      "source": [
        "import math\n",
        "sum([1, 5, 6])\n",
        "\n",
        "math.prod([1,5,3,6])"
      ],
      "metadata": {
        "id": "IiIstPkqNuDc"
      },
      "execution_count": null,
      "outputs": []
    },
    {
      "cell_type": "code",
      "source": [
        "nums = []\n",
        "\n",
        "with open('/content/9 (3).txt') as f:\n",
        "    for line in f:\n",
        "        nums.append(list(map(int, line.split())))\n",
        "\n",
        "nums[:7]"
      ],
      "metadata": {
        "colab": {
          "base_uri": "https://localhost:8080/"
        },
        "id": "0iIc8ps599N-",
        "outputId": "dca1d4b3-0e34-474a-ad97-f9d85ddcaa8e"
      },
      "execution_count": null,
      "outputs": [
        {
          "output_type": "execute_result",
          "data": {
            "text/plain": [
              "[[44, 102, 89, 167, 135, 160, 80],\n",
              " [129, 107, 152, 93, 54, 72, 67],\n",
              " [80, 104, 37, 60, 35, 24, 86],\n",
              " [184, 162, 145, 71, 175, 192, 87],\n",
              " [107, 70, 91, 66, 36, 109, 132],\n",
              " [26, 32, 89, 112, 113, 17, 101],\n",
              " [63, 153, 127, 71, 34, 60, 87]]"
            ]
          },
          "metadata": {},
          "execution_count": 24
        }
      ]
    },
    {
      "cell_type": "code",
      "source": [
        "from math import prod\n",
        "\n",
        "cnt = 0\n",
        "\n",
        "for numbers in nums:\n",
        "    # Разделяем на чётные и нечётные числа\n",
        "    even_numbers = [num for num in numbers if num % 2 == 0]\n",
        "    odd_numbers = [num for num in numbers if num % 2 != 0]\n",
        "    # в строке не менее двух чётных и не менее двух нечётных чисел\n",
        "    if len(even_numbers) >= 2 and len(odd_numbers) >= 2:\n",
        "        # утроенная сумма нечётных чисел больше произведения чётных\n",
        "        if (3 * sum(odd_numbers)) >= prod(even_numbers):\n",
        "            cnt += 1\n",
        "\n",
        "cnt\n",
        "# 160"
      ],
      "metadata": {
        "colab": {
          "base_uri": "https://localhost:8080/"
        },
        "id": "Ujcc4IL_-0EI",
        "outputId": "7e1e974d-ee3f-4291-86c0-52c6d290f57c"
      },
      "execution_count": null,
      "outputs": [
        {
          "output_type": "execute_result",
          "data": {
            "text/plain": [
              "160"
            ]
          },
          "metadata": {},
          "execution_count": 35
        }
      ]
    },
    {
      "cell_type": "markdown",
      "source": [
        "# 4.\n",
        "\n",
        "Откройте файл электронной таблицы, содержащей в каждой строке семь натуральных чисел. Найдите наибольший номер строки таблицы, для чисел которой выполнены оба условия:\n",
        "\n",
        "- в строке есть одно число, которое повторяется трижды, остальные числа различны;\n",
        "- количество чётных чисел превышает количество нечётных.\n",
        "\n",
        "В ответе запишите только число."
      ],
      "metadata": {
        "id": "oCVp_CYIAL87"
      }
    },
    {
      "cell_type": "code",
      "source": [
        "nums = []\n",
        "\n",
        "with open('/content/9 (4).txt') as f:\n",
        "    for line in f:\n",
        "        nums.append(list(map(int, line.split())))\n",
        "\n",
        "nums[:7]"
      ],
      "metadata": {
        "colab": {
          "base_uri": "https://localhost:8080/"
        },
        "id": "_GpoDAWvAO5a",
        "outputId": "f1d4acc3-6361-4af2-84c5-a6f56538d6b8"
      },
      "execution_count": null,
      "outputs": [
        {
          "output_type": "execute_result",
          "data": {
            "text/plain": [
              "[[12, 102, 26, 102, 21, 12, 73],\n",
              " [15, 66, 47, 86, 29, 85, 83],\n",
              " [97, 12, 86, 57, 93, 64, 41],\n",
              " [25, 57, 58, 85, 47, 70, 72],\n",
              " [45, 34, 56, 39, 62, 19, 55],\n",
              " [36, 94, 45, 85, 94, 89, 88],\n",
              " [23, 93, 34, 90, 88, 28, 21]]"
            ]
          },
          "metadata": {},
          "execution_count": 71
        }
      ]
    },
    {
      "cell_type": "code",
      "source": [
        "len(nums)"
      ],
      "metadata": {
        "colab": {
          "base_uri": "https://localhost:8080/"
        },
        "id": "nfELnWWBEFC-",
        "outputId": "7371b362-ce9e-42a5-d166-1ead382d4c8c"
      },
      "execution_count": null,
      "outputs": [
        {
          "output_type": "execute_result",
          "data": {
            "text/plain": [
              "16000"
            ]
          },
          "metadata": {},
          "execution_count": 64
        }
      ]
    },
    {
      "cell_type": "code",
      "source": [
        "numbers = [12, 102, 12, 102, 21, 12, 73]\n",
        "unique_numbers = list(set(numbers))\n",
        "print(unique_numbers)\n",
        "counts = [numbers.count(num) for num in unique_numbers]\n",
        "# в строке есть одно число, которое повторяется трижды, остальные числа различны;\n",
        "counts"
      ],
      "metadata": {
        "colab": {
          "base_uri": "https://localhost:8080/"
        },
        "id": "zLp8F96GAZhf",
        "outputId": "63a9ba7d-0695-4d0e-cf6b-693344f97229"
      },
      "execution_count": null,
      "outputs": [
        {
          "output_type": "stream",
          "name": "stdout",
          "text": [
            "[73, 12, 21, 102]\n"
          ]
        },
        {
          "output_type": "execute_result",
          "data": {
            "text/plain": [
              "[1, 3, 1, 2]"
            ]
          },
          "metadata": {},
          "execution_count": 6
        }
      ]
    },
    {
      "cell_type": "code",
      "source": [
        "sum(counts)"
      ],
      "metadata": {
        "colab": {
          "base_uri": "https://localhost:8080/"
        },
        "id": "DrbdQUg9C0th",
        "outputId": "4970ab4c-2477-4ed5-fe8b-953edc500aa9"
      },
      "execution_count": null,
      "outputs": [
        {
          "output_type": "execute_result",
          "data": {
            "text/plain": [
              "1"
            ]
          },
          "metadata": {},
          "execution_count": 76
        }
      ]
    },
    {
      "cell_type": "code",
      "source": [
        "len(nums)"
      ],
      "metadata": {
        "colab": {
          "base_uri": "https://localhost:8080/"
        },
        "id": "uQe-QCLnEwWO",
        "outputId": "e583a6e9-0dcf-4e94-9947-3d01ec82b703"
      },
      "execution_count": null,
      "outputs": [
        {
          "output_type": "execute_result",
          "data": {
            "text/plain": [
              "16000"
            ]
          },
          "metadata": {},
          "execution_count": 73
        }
      ]
    },
    {
      "cell_type": "code",
      "source": [
        "idx = 0\n",
        "\n",
        "for i in range(len(nums)):\n",
        "    # в строке есть одно число, которое повторяется трижды,\n",
        "    # остальные числа различны\n",
        "    unique_numbers = set(nums[i])\n",
        "    counts = [nums[i].count(num)==3 for num in unique_numbers]\n",
        "    if sum(counts) == 1:\n",
        "        # # количество чётных чисел превышает количество нечётных\n",
        "        even_numbers = [num for num in nums[i] if num % 2 == 0]\n",
        "        odd_numbers = [num for num in nums[i] if num % 2 != 0]\n",
        "        if len(even_numbers) >= len(odd_numbers):\n",
        "            idx = i\n",
        "\n",
        "idx+1\n",
        "# 15293"
      ],
      "metadata": {
        "colab": {
          "base_uri": "https://localhost:8080/",
          "height": 211
        },
        "id": "TyRNhHLKCp3-",
        "outputId": "b0660832-3350-45ef-9897-010280d0cc85"
      },
      "execution_count": null,
      "outputs": [
        {
          "output_type": "error",
          "ename": "NameError",
          "evalue": "name 'nums' is not defined",
          "traceback": [
            "\u001b[0;31m---------------------------------------------------------------------------\u001b[0m",
            "\u001b[0;31mNameError\u001b[0m                                 Traceback (most recent call last)",
            "\u001b[0;32m<ipython-input-7-c0eba5aed368>\u001b[0m in \u001b[0;36m<cell line: 0>\u001b[0;34m()\u001b[0m\n\u001b[1;32m      1\u001b[0m \u001b[0midx\u001b[0m \u001b[0;34m=\u001b[0m \u001b[0;36m0\u001b[0m\u001b[0;34m\u001b[0m\u001b[0;34m\u001b[0m\u001b[0m\n\u001b[1;32m      2\u001b[0m \u001b[0;34m\u001b[0m\u001b[0m\n\u001b[0;32m----> 3\u001b[0;31m \u001b[0;32mfor\u001b[0m \u001b[0mi\u001b[0m \u001b[0;32min\u001b[0m \u001b[0mrange\u001b[0m\u001b[0;34m(\u001b[0m\u001b[0mlen\u001b[0m\u001b[0;34m(\u001b[0m\u001b[0mnums\u001b[0m\u001b[0;34m)\u001b[0m\u001b[0;34m)\u001b[0m\u001b[0;34m:\u001b[0m\u001b[0;34m\u001b[0m\u001b[0;34m\u001b[0m\u001b[0m\n\u001b[0m\u001b[1;32m      4\u001b[0m     \u001b[0;31m# в строке есть одно число, которое повторяется трижды,\u001b[0m\u001b[0;34m\u001b[0m\u001b[0;34m\u001b[0m\u001b[0m\n\u001b[1;32m      5\u001b[0m     \u001b[0;31m# остальные числа различны\u001b[0m\u001b[0;34m\u001b[0m\u001b[0;34m\u001b[0m\u001b[0m\n",
            "\u001b[0;31mNameError\u001b[0m: name 'nums' is not defined"
          ]
        }
      ]
    },
    {
      "cell_type": "markdown",
      "source": [
        "# 5.\n",
        "\n",
        "Откройте файл электронной таблицы, содержащей в каждой строке восемь натуральных чисел. Определите номер третьей сверху строки таблицы, для чисел которой выполнены два условия:\n",
        "\n",
        "- в строке есть только одно число, которое повторяется ровно дважды, и только одно число, которое повторяется ровно трижды, остальные числа различны\n",
        "- число, повторяющееся трижды, больше числа, повторяющегося дважды\n",
        "\n",
        "В ответе запишите только номер строки."
      ],
      "metadata": {
        "id": "sYRTPKPfF8Dh"
      }
    },
    {
      "cell_type": "code",
      "source": [
        "nums = []\n",
        "\n",
        "with open('/content/9 (5).txt') as f:\n",
        "    for line in f:\n",
        "        nums.append(list(map(int, line.split())))\n",
        "\n",
        "nums[:7]"
      ],
      "metadata": {
        "colab": {
          "base_uri": "https://localhost:8080/"
        },
        "id": "kyYH2zEAGAF9",
        "outputId": "00ec23ec-83a1-4c7b-f51a-5861397d1e64"
      },
      "execution_count": null,
      "outputs": [
        {
          "output_type": "execute_result",
          "data": {
            "text/plain": [
              "[[41, 42, 89, 11, 61, 24, 92, 51],\n",
              " [78, 36, 87, 17, 77, 11, 84, 71],\n",
              " [44, 67, 44, 21, 44, 94, 59, 90],\n",
              " [95, 81, 63, 17, 16, 55, 66, 56],\n",
              " [14, 24, 23, 34, 40, 45, 71, 50],\n",
              " [46, 50, 60, 19, 11, 70, 42, 59],\n",
              " [31, 80, 92, 33, 14, 16, 91, 75]]"
            ]
          },
          "metadata": {},
          "execution_count": 87
        }
      ]
    },
    {
      "cell_type": "code",
      "source": [
        "numbers = [44, 67, 44, 21, 44, 94, 59, 94]\n",
        "\n",
        "unique_numbers = set(numbers)\n",
        "count_3 = [num for num in unique_numbers if numbers.count(num) == 3]\n",
        "count_2 = [num for num in unique_numbers if numbers.count(num) == 2]\n",
        "\n",
        "count_2, count_3"
      ],
      "metadata": {
        "colab": {
          "base_uri": "https://localhost:8080/"
        },
        "id": "9-YRtX74GrIJ",
        "outputId": "063119a9-0412-458d-9e77-5c40fe24c5bd"
      },
      "execution_count": null,
      "outputs": [
        {
          "output_type": "execute_result",
          "data": {
            "text/plain": [
              "([94], [44])"
            ]
          },
          "metadata": {},
          "execution_count": 102
        }
      ]
    },
    {
      "cell_type": "code",
      "source": [
        "count_2.values()"
      ],
      "metadata": {
        "colab": {
          "base_uri": "https://localhost:8080/"
        },
        "id": "fvneJdCjHIa6",
        "outputId": "293511bb-c317-457c-f294-da4ca3dafb9d"
      },
      "execution_count": null,
      "outputs": [
        {
          "output_type": "execute_result",
          "data": {
            "text/plain": [
              "dict_values([False, False, False, False, True])"
            ]
          },
          "metadata": {},
          "execution_count": 99
        }
      ]
    },
    {
      "cell_type": "code",
      "source": [
        "for i in range(len(nums)):\n",
        "    # в строке есть только одно число, которое повторяется ровно дважды,\n",
        "    # и только одно число, которое повторяется ровно трижды,\n",
        "    # остальные числа различны\n",
        "    unique_numbers = set(nums[i])\n",
        "    count_3 = [num for num in unique_numbers if nums[i].count(num) == 3]\n",
        "    count_2 = [num for num in unique_numbers if nums[i].count(num) == 2]\n",
        "\n",
        "    if len(count_3) == 1 and len(count_2) == 1:\n",
        "        # число, повторяющееся трижды, больше числа, повторяющегося дважды\n",
        "        even_numbers = [num for num in nums[i] if num % 2 == 0]\n",
        "        odd_numbers = [num for num in nums[i] if num % 2 != 0]\n",
        "        if len(even_numbers) >= len(odd_numbers):\n",
        "            # номер третьей сверху строки таблицы,\n",
        "            # для чисел которой выполнены два условия\n",
        "            print(i+1)\n",
        "\n",
        "# 3319 - 3319"
      ],
      "metadata": {
        "colab": {
          "base_uri": "https://localhost:8080/"
        },
        "id": "jKdxDUdGGOmF",
        "outputId": "01ca2df9-baba-4118-cc7c-4b8394ebed82"
      },
      "execution_count": null,
      "outputs": [
        {
          "output_type": "stream",
          "name": "stdout",
          "text": [
            "782\n",
            "881\n",
            "3319\n",
            "7049\n",
            "7868\n",
            "8984\n",
            "9436\n",
            "10613\n",
            "10796\n",
            "12698\n",
            "13805\n"
          ]
        }
      ]
    },
    {
      "cell_type": "markdown",
      "source": [
        "# 6.\n",
        "\n",
        "Откройте файл электронной таблицы, содержащей в каждой строке шесть натуральных чисел. Определите количество строк таблицы, для которых выполняются все условия:\n",
        "\n",
        "- в строке три числа повторяются ровно два раза;\n",
        "- эти три числа образуют стороны прямоугольного треугольника.\n",
        "\n",
        "В ответе запишите одно число."
      ],
      "metadata": {
        "id": "kx1z_ApMIBaM"
      }
    },
    {
      "cell_type": "code",
      "source": [
        "nums = []\n",
        "\n",
        "with open('/content/9 (6).txt') as f:\n",
        "    for line in f:\n",
        "        nums.append(list(map(int, line.split(','))))\n",
        "\n",
        "nums[:7]"
      ],
      "metadata": {
        "colab": {
          "base_uri": "https://localhost:8080/"
        },
        "id": "xFrsmKpBIIQS",
        "outputId": "7dcbb490-8a70-465c-f0fb-42c9283f2934"
      },
      "execution_count": null,
      "outputs": [
        {
          "output_type": "execute_result",
          "data": {
            "text/plain": [
              "[[63, 46, 83, 41, 60, 50],\n",
              " [39, 41, 33, 33, 72, 86],\n",
              " [87, 60, 63, 60, 63, 87],\n",
              " [63, 65, 65, 16, 16, 63],\n",
              " [12, 12, 20, 16, 16, 20],\n",
              " [13, 39, 81, 73, 12, 49],\n",
              " [26, 26, 10, 24, 24, 10]]"
            ]
          },
          "metadata": {},
          "execution_count": 111
        }
      ]
    },
    {
      "cell_type": "code",
      "source": [
        "cnt = 0\n",
        "\n",
        "for i in range(len(nums)):\n",
        "    # в строке три числа повторяются ровно два раза\n",
        "    unique_numbers = set(nums[i])\n",
        "    count_2 = [num for num in unique_numbers if nums[i].count(num) == 2]\n",
        "\n",
        "    # убедимся что таких числа три\n",
        "    if len(count_2) == 3:\n",
        "        # эти три числа образуют стороны прямоугольного треугольника\n",
        "        a, b, c = sorted(count_2)  # Сортируем, чтобы c было гипотенузой\n",
        "\n",
        "        if a**2 + b**2 == c**2:\n",
        "            cnt += 1\n",
        "\n",
        "cnt\n",
        "# 148"
      ],
      "metadata": {
        "colab": {
          "base_uri": "https://localhost:8080/"
        },
        "id": "j3WKfSmaIZ3J",
        "outputId": "4e5d352c-2e95-4c78-c9c6-60d479785326"
      },
      "execution_count": null,
      "outputs": [
        {
          "output_type": "execute_result",
          "data": {
            "text/plain": [
              "148"
            ]
          },
          "metadata": {},
          "execution_count": 113
        }
      ]
    },
    {
      "cell_type": "code",
      "source": [
        "nums = []\n",
        "\n",
        "with open('/content/9 (6).txt') as f:\n",
        "    for line in f:\n",
        "        nums.append(list(map(int, line.split())))\n",
        "\n",
        "# Определите количество строк таблицы с числами,\n",
        "# для которых работают не менее двух из трёх условий:\n",
        "\n",
        "# в строке одно число повторяется трижды, остальные различны\n",
        "# чётных чисел больше, чем нечётных\n",
        "# сумма двух наибольших значений больше,\n",
        "# чем в два раза превышает сумму остальных значений\n",
        "\n"
      ],
      "metadata": {
        "id": "Ixl1A5uccvS9"
      },
      "execution_count": null,
      "outputs": []
    },
    {
      "cell_type": "code",
      "source": [
        "l = [1,4,3,6]\n",
        "\n",
        "# l = sorted(l) - глобальный метод , не изменяет\n",
        "l.reverse() - метод класса list, изменяет исходные объект\n",
        "l.sort() - метод класса list, изменяет исходные объект\n",
        "\n",
        "l"
      ],
      "metadata": {
        "colab": {
          "base_uri": "https://localhost:8080/"
        },
        "id": "TtTeab24fGaS",
        "outputId": "386399dd-4bd2-494f-de28-b46688f6eabd"
      },
      "execution_count": null,
      "outputs": [
        {
          "output_type": "execute_result",
          "data": {
            "text/plain": [
              "[6, 3, 4, 1]"
            ]
          },
          "metadata": {},
          "execution_count": 18
        }
      ]
    }
  ]
}