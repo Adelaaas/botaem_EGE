{
  "nbformat": 4,
  "nbformat_minor": 0,
  "metadata": {
    "colab": {
      "provenance": []
    },
    "kernelspec": {
      "name": "python3",
      "display_name": "Python 3"
    },
    "language_info": {
      "name": "python"
    }
  },
  "cells": [
    {
      "cell_type": "markdown",
      "source": [
        "Данные: https://drive.google.com/drive/folders/1huVZQuu2wtQmp2luA7yni5ww8XDt_iFq?usp=sharing"
      ],
      "metadata": {
        "id": "KkF849SWDdrP"
      }
    },
    {
      "cell_type": "markdown",
      "source": [
        "# 1.\n",
        "\n",
        "В файле содержится последовательность целых чисел. Элементы последовательности могут принимать целые значения от –10 000 до 10 000 включительно.\n",
        "\n",
        "Найдите количество пар чисел с одинаковым знаком. Под парой понимается 2 подряд идущих числа."
      ],
      "metadata": {
        "id": "mGZTzXReHdky"
      }
    },
    {
      "cell_type": "code",
      "execution_count": null,
      "metadata": {
        "colab": {
          "base_uri": "https://localhost:8080/"
        },
        "id": "4aX9txLoG_wR",
        "outputId": "ad5386f7-8d57-4a2c-99d1-662d5b40a62d"
      },
      "outputs": [
        {
          "output_type": "execute_result",
          "data": {
            "text/plain": [
              "[4525, 6347, 5361, 1163, -5880, 1178, 8121]"
            ]
          },
          "metadata": {},
          "execution_count": 9
        }
      ],
      "source": [
        "nums = []\n",
        "\n",
        "with open('/content/17 (1).txt') as f:\n",
        "    for line in f:\n",
        "        nums.append(int(line.strip()))\n",
        "nums[:7]"
      ]
    },
    {
      "cell_type": "code",
      "source": [
        "# nums = [4525, 6347, 5361, 1163, -5880, 1178, 8121]\n",
        "\n",
        "cnt = 0\n",
        "for i in range(len(nums)-1):\n",
        "    if nums[i] > 0 and nums[i+1] > 0:\n",
        "        cnt += 1\n",
        "    elif nums[i] <= 0 and nums[i+1] <= 0:\n",
        "        cnt += 1\n",
        "\n",
        "cnt\n",
        "# 2495"
      ],
      "metadata": {
        "colab": {
          "base_uri": "https://localhost:8080/"
        },
        "id": "I2WD6Y4MIRC9",
        "outputId": "d80d81f9-e4d2-408a-99ec-b8c5c30e8ae9"
      },
      "execution_count": null,
      "outputs": [
        {
          "output_type": "execute_result",
          "data": {
            "text/plain": [
              "2495"
            ]
          },
          "metadata": {},
          "execution_count": 10
        }
      ]
    },
    {
      "cell_type": "code",
      "source": [
        "nums = []\n",
        "\n",
        "with open('/content/17 (7).txt') as f:\n",
        "    for line in f:\n",
        "        nums.append(int(line.strip()))\n",
        "nums[:7]"
      ],
      "metadata": {
        "colab": {
          "base_uri": "https://localhost:8080/"
        },
        "id": "UTrsYLjuF0s3",
        "outputId": "a946b983-4526-44b7-83c3-d723cc6db36a"
      },
      "execution_count": null,
      "outputs": [
        {
          "output_type": "execute_result",
          "data": {
            "text/plain": [
              "[4525, 6347, 5361, 1163, -5880, 1178, 8121]"
            ]
          },
          "metadata": {},
          "execution_count": 2
        }
      ]
    },
    {
      "cell_type": "code",
      "source": [
        "cnt = 0\n",
        "max_sum = nums[0] + nums[1]\n",
        "for i in range(len(nums)-1):\n",
        "    if (nums[i] - nums[i+1])%37 == 0 and (nums[i] - nums[i+1])%2 == 0:\n",
        "        cnt += 1\n",
        "        if nums[i] + nums[i+1] > max_sum:\n",
        "            max_sum = nums[i] + nums[i+1]\n",
        "\n",
        "cnt, max_sum"
      ],
      "metadata": {
        "colab": {
          "base_uri": "https://localhost:8080/"
        },
        "id": "G19ON6S4F4fp",
        "outputId": "d6c0ac41-72c2-4f6e-d7eb-0a852888eda9"
      },
      "execution_count": null,
      "outputs": [
        {
          "output_type": "execute_result",
          "data": {
            "text/plain": [
              "(69, 17534)"
            ]
          },
          "metadata": {},
          "execution_count": 4
        }
      ]
    },
    {
      "cell_type": "markdown",
      "source": [
        "# 2.\n",
        "\n",
        "В файле содержится последовательность целых чисел. Элементы последовательности могут принимать целые значения от –10 000 до 10 000 включительно.\n",
        "\n",
        "Найдите модуль разности между самым большим положительным числом и самым маленьким отрицательным числом."
      ],
      "metadata": {
        "id": "NbRcQBivIt3Q"
      }
    },
    {
      "cell_type": "code",
      "source": [
        "nums = []\n",
        "\n",
        "with open('/content/17 (2).txt') as f:\n",
        "    for line in f:\n",
        "        nums.append(int(line.strip()))\n",
        "nums[:7]"
      ],
      "metadata": {
        "colab": {
          "base_uri": "https://localhost:8080/"
        },
        "id": "jTwr82tFI0Qh",
        "outputId": "437953fa-720c-44f4-81da-96f6fbe3816b"
      },
      "execution_count": null,
      "outputs": [
        {
          "output_type": "execute_result",
          "data": {
            "text/plain": [
              "[4525, 6347, 5361, 1163, 5880, 1178, 8121]"
            ]
          },
          "metadata": {},
          "execution_count": 12
        }
      ]
    },
    {
      "cell_type": "code",
      "source": [
        "pos = []\n",
        "neg = []\n",
        "\n",
        "for i in nums:\n",
        "    if i < 0:\n",
        "        neg.append(i)\n",
        "    elif i > 0:\n",
        "        pos.append(i)\n",
        "\n",
        "abs(max(pos) - min(neg))\n",
        "# 9997"
      ],
      "metadata": {
        "colab": {
          "base_uri": "https://localhost:8080/"
        },
        "id": "vby1ZYHBJLoc",
        "outputId": "f0058a8d-ff18-46cf-e710-b8129a03d41f"
      },
      "execution_count": null,
      "outputs": [
        {
          "output_type": "execute_result",
          "data": {
            "text/plain": [
              "9997"
            ]
          },
          "metadata": {},
          "execution_count": 13
        }
      ]
    },
    {
      "cell_type": "markdown",
      "source": [
        "# 3.\n",
        "\n",
        "В файле содержится последовательность натуральных чисел. Её элементы могут принимать целые значения от 1 до 100 000 включительно. Определите количество троек последовательности, в которых хотя бы один элемент кратен наименьшему числу последовательности, кратному 2025, а сумма тройки при этом — шестизначное число.\n",
        "\n",
        "В ответе запишите количество найденных троек, затем максимальную из сумм элементов таких троек.\n",
        "\n",
        "В этой задаче под тройкой подразумеваются три идущих подряд элемента последовательности."
      ],
      "metadata": {
        "id": "4x8zDEsAJjZ0"
      }
    },
    {
      "cell_type": "code",
      "source": [
        "nums = []\n",
        "\n",
        "with open('/content/17 (3).txt') as f:\n",
        "    for line in f:\n",
        "        nums.append(int(line.strip()))\n",
        "nums[:7]"
      ],
      "metadata": {
        "colab": {
          "base_uri": "https://localhost:8080/"
        },
        "id": "PL6I2YUgJk3v",
        "outputId": "ec9fcc08-dbb8-4155-dbf3-42c4b4d9e361"
      },
      "execution_count": null,
      "outputs": [
        {
          "output_type": "execute_result",
          "data": {
            "text/plain": [
              "[16200, 57198, 40092, 19550, 89100, 91525, 64800]"
            ]
          },
          "metadata": {},
          "execution_count": 14
        }
      ]
    },
    {
      "cell_type": "code",
      "source": [
        "# Определите количество троек последовательности,\n",
        "# в которых хотя бы один элемент кратен\n",
        "# наименьшему числу последовательности, кратному 2025,\n",
        "# а сумма тройки при этом — шестизначное число.\n",
        "\n",
        "\n",
        "# сначала найдем наименьшее число кратное 2025\n",
        "min_2025 = max(nums)\n",
        "for i in nums:\n",
        "    if (i <= min_2025) and (i % 2025 == 0):\n",
        "        min_2025 = i\n",
        "\n",
        "print(min_2025)"
      ],
      "metadata": {
        "colab": {
          "base_uri": "https://localhost:8080/"
        },
        "id": "36-6nGuFJrMD",
        "outputId": "85d64be3-570a-4792-b1b3-3bf226b1cc9c"
      },
      "execution_count": null,
      "outputs": [
        {
          "output_type": "stream",
          "name": "stdout",
          "text": [
            "10125\n"
          ]
        }
      ]
    },
    {
      "cell_type": "code",
      "source": [
        "cnt = 0\n",
        "max_sum = 0\n",
        "for i in range(len(nums)-2):\n",
        "    # в которых хотя бы один элемент кратен min_2025\n",
        "    if (nums[i] % min_2025 == 0) or (nums[i+1] % min_2025 == 0) or (nums[i+2] % min_2025 == 0):\n",
        "        three_sum = nums[i] + nums[i+1] + nums[i+2]\n",
        "        if len(str(three_sum)) == 6:\n",
        "            cnt += 1\n",
        "            if three_sum >= max_sum:\n",
        "                max_sum = three_sum\n",
        "\n",
        "# количество найденных троек, затем максимальную из сумм элементов таких троек\n",
        "cnt, max_sum\n",
        "# 963 282747"
      ],
      "metadata": {
        "colab": {
          "base_uri": "https://localhost:8080/"
        },
        "id": "CMJXXw8aKS-9",
        "outputId": "e649623c-4fb5-4a8a-eada-f64bd84fac79"
      },
      "execution_count": null,
      "outputs": [
        {
          "output_type": "execute_result",
          "data": {
            "text/plain": [
              "(963, 282747)"
            ]
          },
          "metadata": {},
          "execution_count": 21
        }
      ]
    },
    {
      "cell_type": "markdown",
      "source": [
        "# 4.\n",
        "\n",
        "В файле содержится последовательность целых чисел, каждое из которых по модулю не превышает 100 000. Определите количество троек элементов последовательности, в которых больше одного из трёх элементов оканчиваются на 3 или 5, а произведение элементов тройки не больше куба максимального четырёхзначного элемента последовательности.\n",
        "\n",
        "Гарантируется, что в последовательности есть хотя бы одно четырёхзначное число. В ответе запишите количество найденных троек чисел, затем — максимальную из сумм элементов таких троек.\n",
        "\n",
        "В данной задаче под тройкой подразумевается три идущих подряд элемента последовательности."
      ],
      "metadata": {
        "id": "sr0oYWOvLj3v"
      }
    },
    {
      "cell_type": "code",
      "source": [
        "nums = []\n",
        "\n",
        "with open('/content/17 (4).txt') as f:\n",
        "    for line in f:\n",
        "        nums.append(int(line.strip()))\n",
        "nums[:7]"
      ],
      "metadata": {
        "colab": {
          "base_uri": "https://localhost:8080/"
        },
        "id": "uRKunQESLlmP",
        "outputId": "28bd69a7-31fb-4f3e-a90f-3bdd629432a2"
      },
      "execution_count": null,
      "outputs": [
        {
          "output_type": "execute_result",
          "data": {
            "text/plain": [
              "[16661, 21040, 40968, 40289, -75934, 88174, 82278]"
            ]
          },
          "metadata": {},
          "execution_count": 5
        }
      ]
    },
    {
      "cell_type": "code",
      "source": [
        "# сначала найдём куб максимального четырёхзначного элемента последовательности\n",
        "\n",
        "max_4 = 0\n",
        "for i in nums:\n",
        "    if len(str(abs(i))) == 4 and i >= max_4:\n",
        "        max_4 = i\n",
        "\n",
        "max_4, max_4**3"
      ],
      "metadata": {
        "colab": {
          "base_uri": "https://localhost:8080/"
        },
        "id": "FwzFmvnFLqZn",
        "outputId": "04aab0f9-e621-4f8d-9f08-1fe2c5693a92"
      },
      "execution_count": null,
      "outputs": [
        {
          "output_type": "execute_result",
          "data": {
            "text/plain": [
              "(9982, 994609714168)"
            ]
          },
          "metadata": {},
          "execution_count": 9
        }
      ]
    },
    {
      "cell_type": "code",
      "source": [
        "str(8743)[-1]"
      ],
      "metadata": {
        "colab": {
          "base_uri": "https://localhost:8080/",
          "height": 35
        },
        "id": "VGygo9PlP_hv",
        "outputId": "cad7b248-92ac-4db9-8aae-50121ee6f1d9"
      },
      "execution_count": null,
      "outputs": [
        {
          "output_type": "execute_result",
          "data": {
            "text/plain": [
              "'3'"
            ],
            "application/vnd.google.colaboratory.intrinsic+json": {
              "type": "string"
            }
          },
          "metadata": {},
          "execution_count": 55
        }
      ]
    },
    {
      "cell_type": "code",
      "source": [
        "for i in range(len(nums)-2):\n",
        "    if (str(nums[i])[-1] in ['3', '5']) or \\\n",
        "    (str(nums[i+1])[-1] in ['3', '5']) or \\\n",
        "    (str(nums[i+2])[-1] in ['3', '5']):\n",
        "        print(nums[i], nums[i+1], nums[i+2])\n",
        "        break"
      ],
      "metadata": {
        "colab": {
          "base_uri": "https://localhost:8080/"
        },
        "id": "cOfXCEF0Nke7",
        "outputId": "dd5c28d6-adec-4cc1-bb35-e019ee171e6a"
      },
      "execution_count": null,
      "outputs": [
        {
          "output_type": "stream",
          "name": "stdout",
          "text": [
            "-88024 87114 87703\n"
          ]
        }
      ]
    },
    {
      "cell_type": "code",
      "source": [
        "tmp = 0\n",
        "for i in range(len(nums)-2):\n",
        "    if (str(nums[i])[-1] in ['3', '5']) or \\\n",
        "    (str(nums[i+1])[-1] in ['3', '5']) or \\\n",
        "    (str(nums[i+2])[-1] in ['3', '5']):\n",
        "        tmp += 1\n",
        "\n",
        "# всего таких троек\n",
        "tmp"
      ],
      "metadata": {
        "colab": {
          "base_uri": "https://localhost:8080/"
        },
        "id": "Fl8KO6HdNyYy",
        "outputId": "c0d9c889-63f1-4b04-fa3e-5eb4d25bf975"
      },
      "execution_count": null,
      "outputs": [
        {
          "output_type": "execute_result",
          "data": {
            "text/plain": [
              "7369"
            ]
          },
          "metadata": {},
          "execution_count": 33
        }
      ]
    },
    {
      "cell_type": "code",
      "source": [
        "tmp = 0\n",
        "for i in range(len(nums)-2):\n",
        "\n",
        "\n",
        "    if cnt_endings > 1:\n",
        "        tmp += 1\n",
        "        # print(nums[i], nums[i+1], nums[i+2])\n",
        "\n",
        "# всего таких троек в которых больше 1 элемента оканчиваются на 3 или 5\n",
        "tmp"
      ],
      "metadata": {
        "colab": {
          "base_uri": "https://localhost:8080/"
        },
        "id": "P211Fv83OpiG",
        "outputId": "d73eed5a-4982-4f44-d596-e2e32f0a6682"
      },
      "execution_count": null,
      "outputs": [
        {
          "output_type": "execute_result",
          "data": {
            "text/plain": [
              "1577"
            ]
          },
          "metadata": {},
          "execution_count": 47
        }
      ]
    },
    {
      "cell_type": "code",
      "source": [
        "# больше одного из трёх элементов оканчиваются на 3 или 5, т.е. 2 или 3\n",
        "# а произведение элементов тройки не больше max_4**3\n",
        "max_sum_3 = 0\n",
        "cnt = 0\n",
        "\n",
        "for i in range(len(nums)-2):\n",
        "    cnt_endings = 0\n",
        "    if (str(nums[i])[-1] in ['3', '5']):\n",
        "        cnt_endings += 1\n",
        "    if (str(nums[i+1])[-1] in ['3', '5']):\n",
        "        cnt_endings += 1\n",
        "    if (str(nums[i+2])[-1] in ['3', '5']):\n",
        "        cnt_endings += 1\n",
        "\n",
        "    if cnt_endings > 1:\n",
        "        prod_3 = nums[i]*nums[i+1]*nums[i+2]\n",
        "        sum_3 = nums[i] + nums[i+1] + nums[i+2]\n",
        "        if prod_3 < max_4**3:\n",
        "            cnt += 1\n",
        "            if sum_3 >= max_sum_3:\n",
        "                max_sum_3 = sum_3\n",
        "\n",
        "cnt, max_sum_3\n",
        "# 825 175631"
      ],
      "metadata": {
        "colab": {
          "base_uri": "https://localhost:8080/"
        },
        "id": "mFam5HeNMA_a",
        "outputId": "8d7d87ef-526f-407e-ab52-c1fe4fcefcb1"
      },
      "execution_count": null,
      "outputs": [
        {
          "output_type": "execute_result",
          "data": {
            "text/plain": [
              "(825, 175631)"
            ]
          },
          "metadata": {},
          "execution_count": 8
        }
      ]
    },
    {
      "cell_type": "markdown",
      "source": [
        "# 5.\n",
        "\n",
        "В файле содержится последовательность целых чисел, каждое из которых находится в диапазоне от −20 000 до 20 000. Определите количество пар элементов последовательности, сумма которых превосходит каждую из сумм соседних пар, при этом все три суммы являются положительными.\n",
        "\n",
        "В ответе запишите количество найденных пар чисел, затем минимальное из произведений элементов таких пар.\n",
        "\n",
        "В данной задаче под парой подразумевается два идущих подряд элемента последовательности. Под соседними парами подразумеваются четыре идущих подряд элемента последовательности.\n",
        "\n",
        "Например, в последовательности 1 2 3 4 5 6 у пары (3, 4) соседние пары (1, 2) и (5, 6)."
      ],
      "metadata": {
        "id": "-sEgaoxzQG_G"
      }
    },
    {
      "cell_type": "code",
      "source": [
        "nums = []\n",
        "\n",
        "with open('/content/17 (5).txt') as f:\n",
        "    for line in f:\n",
        "        nums.append(int(line.strip()))\n",
        "nums[:7]"
      ],
      "metadata": {
        "colab": {
          "base_uri": "https://localhost:8080/"
        },
        "id": "uZFziPkEQMgO",
        "outputId": "93af5223-bdf4-40a7-9dbf-779921e6b569"
      },
      "execution_count": null,
      "outputs": [
        {
          "output_type": "execute_result",
          "data": {
            "text/plain": [
              "[-9123, -643, -6547, 13408, 3305, 6616, -9548]"
            ]
          },
          "metadata": {},
          "execution_count": 11
        }
      ]
    },
    {
      "cell_type": "code",
      "source": [
        "from math import prod\n",
        "\n",
        "nums = [-9123, -643, -6547, 13408, 3305, 6616, -9548]\n",
        "\n",
        "i = 2\n",
        "print(nums[i:7])\n",
        "prod(nums[i:7])"
      ],
      "metadata": {
        "colab": {
          "base_uri": "https://localhost:8080/"
        },
        "id": "Q4P8A1TwRljL",
        "outputId": "5e45e5af-4297-4065-9abf-f5cdfe794bd5"
      },
      "execution_count": null,
      "outputs": [
        {
          "output_type": "stream",
          "name": "stdout",
          "text": [
            "[-6547, 13408, 3305, 6616, -9548]\n"
          ]
        },
        {
          "output_type": "execute_result",
          "data": {
            "text/plain": [
              "18326760859545994240"
            ]
          },
          "metadata": {},
          "execution_count": 66
        }
      ]
    },
    {
      "cell_type": "code",
      "source": [
        "from math import prod\n",
        "\n",
        "min_prod = nums[0]*nums[1]\n",
        "cnt = 0\n",
        "\n",
        "for i in range(len(nums)-5):\n",
        "    sum_pair1 = nums[i] + nums[i+1]\n",
        "    sum_pair2 = nums[i+2] + nums[i+3]\n",
        "    sum_pair3 = nums[i+4] + nums[i+5]\n",
        "\n",
        "    # все три суммы являются положительными\n",
        "    if sum_pair1 > 0 and sum_pair2 > 0 and sum_pair3 > 0:\n",
        "        # пар элементов последовательности, сумма которых\n",
        "        # превосходит каждую из сумм соседних пар\n",
        "        if sum_pair1 < sum_pair2 > sum_pair3:\n",
        "            cnt += 1\n",
        "            # минимальное из произведений элементов таких пар\n",
        "            # prod_elems = nums[i] * nums[i+1] * nums[i+2] * nums[i+3] * nums[i+4] * nums[i+5]\n",
        "            #    оказалось не так надо считать\n",
        "            prod_elems = min(nums[i] * nums[i+1], nums[i+2] * nums[i+3], nums[i+4] * nums[i+5])\n",
        "            if prod_elems < min_prod:\n",
        "                min_prod = prod_elems\n",
        "\n",
        "cnt, min_prod\n",
        "# 610 -123157359"
      ],
      "metadata": {
        "colab": {
          "base_uri": "https://localhost:8080/"
        },
        "id": "GAwz3_FXQPLy",
        "outputId": "12fc81f4-b1a2-4d0c-caa0-3d4b3ff11f95"
      },
      "execution_count": null,
      "outputs": [
        {
          "output_type": "execute_result",
          "data": {
            "text/plain": [
              "(610, -165142575)"
            ]
          },
          "metadata": {},
          "execution_count": 13
        }
      ]
    },
    {
      "cell_type": "markdown",
      "source": [
        "# 6.\n",
        "\n",
        "В файле содержится последовательность натуральных чисел. Элементы последовательности могут принимать целые значения от 1 до 10 000 включительно. Определите количество пар последовательности, в которых только одно число имеет отличное от 3 количество разрядов, а элементы пары отличаются на значение, кратное минимальному трёхзначному значению в последовательности, оканчивающемуся на 11.\n",
        "\n",
        "В ответе запишите количество найденных пар, затем максимальную из сумм элементов таких пар. В данной задаче под парой подразумевается два идущих подряд элемента последовательности."
      ],
      "metadata": {
        "id": "OPFJKURWTYUO"
      }
    },
    {
      "cell_type": "code",
      "source": [
        "nums = []\n",
        "\n",
        "with open('/content/17 (6).txt') as f:\n",
        "    for line in f:\n",
        "        nums.append(int(line.strip()))\n",
        "nums[:7]"
      ],
      "metadata": {
        "colab": {
          "base_uri": "https://localhost:8080/"
        },
        "id": "Qh_Ra8cQTfwZ",
        "outputId": "c053a76c-ad2d-49d8-f244-bc323ed0eed1"
      },
      "execution_count": null,
      "outputs": [
        {
          "output_type": "execute_result",
          "data": {
            "text/plain": [
              "[2626, 3324, 3300, 3565, 6175, 2836, 3308]"
            ]
          },
          "metadata": {},
          "execution_count": 72
        }
      ]
    },
    {
      "cell_type": "code",
      "source": [
        "'2836'[-2:]"
      ],
      "metadata": {
        "colab": {
          "base_uri": "https://localhost:8080/",
          "height": 35
        },
        "id": "96z6HpzUUB16",
        "outputId": "6f75603f-9834-4041-c8f6-0b5358736e08"
      },
      "execution_count": null,
      "outputs": [
        {
          "output_type": "execute_result",
          "data": {
            "text/plain": [
              "'36'"
            ],
            "application/vnd.google.colaboratory.intrinsic+json": {
              "type": "string"
            }
          },
          "metadata": {},
          "execution_count": 74
        }
      ]
    },
    {
      "cell_type": "code",
      "source": [
        "# сначала найдем это число\n",
        "# минимальное трёхзначное значение в последовательности,\n",
        "# оканчивающемуся на 11\n",
        "\n",
        "all_poss = []\n",
        "\n",
        "for i in nums:\n",
        "    if len(str(i)) == 3 and str(i)[-2:] == '11':\n",
        "        all_poss.append(i)\n",
        "\n",
        "min_11 = min(all_poss)\n",
        "all_poss[:4]"
      ],
      "metadata": {
        "colab": {
          "base_uri": "https://localhost:8080/"
        },
        "id": "rAuRhMuZTm-y",
        "outputId": "54fedf2b-77b0-4989-d3e0-8438b1de6848"
      },
      "execution_count": null,
      "outputs": [
        {
          "output_type": "execute_result",
          "data": {
            "text/plain": [
              "[211, 911, 811, 411]"
            ]
          },
          "metadata": {},
          "execution_count": 76
        }
      ]
    },
    {
      "cell_type": "code",
      "source": [
        "min_11"
      ],
      "metadata": {
        "colab": {
          "base_uri": "https://localhost:8080/"
        },
        "id": "wszu0X_TTXw1",
        "outputId": "234fe379-dedb-44c3-a21d-872ab2000edf"
      },
      "execution_count": null,
      "outputs": [
        {
          "output_type": "execute_result",
          "data": {
            "text/plain": [
              "211"
            ]
          },
          "metadata": {},
          "execution_count": 77
        }
      ]
    },
    {
      "cell_type": "code",
      "source": [
        "# только одно число имеет отличное от 3 количество разрядов,\n",
        "# а элементы пары отличаются на значение, кратное min_11\n",
        "\n",
        "cnt = 0\n",
        "sum_pairs = []\n",
        "\n",
        "for i in range(len(nums)-1):\n",
        "    if len(str(nums[i])) != 3 and len(str(nums[i+1])) == 3:\n",
        "        if (nums[i] - nums[i+1])%min_11 == 0:\n",
        "            cnt += 1\n",
        "            sum_pairs.append(nums[i] + nums[i+1])\n",
        "    elif len(str(nums[i])) == 3 and len(str(nums[i+1])) != 3:\n",
        "        if (nums[i] - nums[i+1])%min_11 == 0:\n",
        "            cnt += 1\n",
        "            sum_pairs.append(nums[i] + nums[i+1])\n",
        "\n",
        "# количество найденных пар, затем максимальную из сумм элементов таких пар\n",
        "cnt, max(sum_pairs)\n",
        "# 8 8089"
      ],
      "metadata": {
        "colab": {
          "base_uri": "https://localhost:8080/"
        },
        "id": "2Jo0JX7bUVP3",
        "outputId": "80a779d6-2fac-48a0-b85e-001847e78f78"
      },
      "execution_count": null,
      "outputs": [
        {
          "output_type": "execute_result",
          "data": {
            "text/plain": [
              "(8, 8089)"
            ]
          },
          "metadata": {},
          "execution_count": 80
        }
      ]
    }
  ]
}