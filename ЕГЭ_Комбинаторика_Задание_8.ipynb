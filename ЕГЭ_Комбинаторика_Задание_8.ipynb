{
  "nbformat": 4,
  "nbformat_minor": 0,
  "metadata": {
    "colab": {
      "provenance": []
    },
    "kernelspec": {
      "name": "python3",
      "display_name": "Python 3"
    },
    "language_info": {
      "name": "python"
    }
  },
  "cells": [
    {
      "cell_type": "markdown",
      "source": [
        "# Про itertools"
      ],
      "metadata": {
        "id": "Qv2yhN7C2RYP"
      }
    },
    {
      "cell_type": "markdown",
      "source": [
        "Модуль `itertools` стандартизирует основной набор быстрых эффективных по памяти инструментов, которые полезны сами по себе или в связке с другими инструментами. Вместе они формируют «алгебру итераторов», которая позволяет лаконично и эффективно создавать специализированные инструменты на чистом Python.\n",
        "\n",
        "`Itertools`  —  это Python-модуль, который предоставляет набор функций для работы с итерируемыми объектами. Итерируемый объект  —  это любой объект, предоставляющий возможность пройти по своим элементам, например список, кортеж и словарь. Itertools позволяет выполнять стандартные операции с итерируемыми объектами, такие как фильтрация, группировка и объединение."
      ],
      "metadata": {
        "id": "qrETX7dk2S70"
      }
    },
    {
      "cell_type": "markdown",
      "source": [
        "1. `permutations()`: эта функция возвращает все возможные перестановки итерируемого объекта с уникальным расположением элементов в итераторе."
      ],
      "metadata": {
        "id": "ozpG5z4D2njL"
      }
    },
    {
      "cell_type": "code",
      "source": [
        "from itertools import permutations\n",
        "\n",
        "letters = ['a', 'a', 'a']\n",
        "perms = list(permutations(letters))\n",
        "\n",
        "perms"
      ],
      "metadata": {
        "colab": {
          "base_uri": "https://localhost:8080/"
        },
        "id": "TERL9O432ti1",
        "outputId": "8a8d6271-f4b2-45af-aef7-44f2aa7a2d6d"
      },
      "execution_count": null,
      "outputs": [
        {
          "output_type": "execute_result",
          "data": {
            "text/plain": [
              "[('a', 'a', 'a'),\n",
              " ('a', 'a', 'a'),\n",
              " ('a', 'a', 'a'),\n",
              " ('a', 'a', 'a'),\n",
              " ('a', 'a', 'a'),\n",
              " ('a', 'a', 'a')]"
            ]
          },
          "metadata": {},
          "execution_count": 1
        }
      ]
    },
    {
      "cell_type": "markdown",
      "source": [
        "2. `combinations()`: эта функция возвращает все возможные комбинации элементов в итерируемом объекте, не повторяя в итераторе ни одной из комбинаций. Если указан опциональный аргумент r, будут возвращены только комбинации длины r."
      ],
      "metadata": {
        "id": "4Fr_YjuZ22Pj"
      }
    },
    {
      "cell_type": "code",
      "source": [
        "from itertools import combinations\n",
        "\n",
        "numbers = [1, 2, 3, 4]\n",
        "combs = list(combinations(numbers, 2))\n",
        "\n",
        "combs"
      ],
      "metadata": {
        "colab": {
          "base_uri": "https://localhost:8080/"
        },
        "id": "ylej-FR92zrQ",
        "outputId": "383c6f6a-6fbd-455d-fe6b-ba16e475343a"
      },
      "execution_count": null,
      "outputs": [
        {
          "output_type": "execute_result",
          "data": {
            "text/plain": [
              "[(1, 2), (1, 3), (1, 4), (2, 3), (2, 4), (3, 4)]"
            ]
          },
          "metadata": {},
          "execution_count": 2
        }
      ]
    },
    {
      "cell_type": "markdown",
      "source": [
        "3. `product()`: эта функция возвращает декартово произведение итерируемых объектов. Получаемый итератор содержит кортежи, каждый из которых формируется путем отбора по одному элементу из каждого итерируемого объекта. Если указан опциональный аргумент repeat, то входные итерируемые объекты повторяются указанное количество раз."
      ],
      "metadata": {
        "id": "kb0vQGJt3BAm"
      }
    },
    {
      "cell_type": "code",
      "source": [
        "from itertools import product\n",
        "\n",
        "colors = ['red', 'green', 'blue']\n",
        "sizes = ['small', 'medium', 'large']\n",
        "\n",
        "combos = list(product(colors,repeat=2))\n",
        "# combos = list(product(colors,colors))\n",
        "\n",
        "combos"
      ],
      "metadata": {
        "colab": {
          "base_uri": "https://localhost:8080/"
        },
        "id": "TeaMc9rh3CzX",
        "outputId": "5bcfdc69-123c-4448-fdd6-075dc49f47bf"
      },
      "execution_count": null,
      "outputs": [
        {
          "output_type": "execute_result",
          "data": {
            "text/plain": [
              "[('red', 'red'),\n",
              " ('red', 'green'),\n",
              " ('red', 'blue'),\n",
              " ('green', 'red'),\n",
              " ('green', 'green'),\n",
              " ('green', 'blue'),\n",
              " ('blue', 'red'),\n",
              " ('blue', 'green'),\n",
              " ('blue', 'blue')]"
            ]
          },
          "metadata": {},
          "execution_count": 3
        }
      ]
    },
    {
      "cell_type": "markdown",
      "source": [
        "# Задачи"
      ],
      "metadata": {
        "id": "JDMY9Ekf3SOW"
      }
    },
    {
      "cell_type": "markdown",
      "source": [
        "## 1.\n",
        "\n",
        "Все семибуквенные слова, в составе которых могут быть только русские буквы Ф, А, В, О, Р, И, Т, записаны в алфавитном порядке и пронумерованы, начиная с 1.\n",
        "\n",
        "Ниже приведено начало списка.\n",
        "\n",
        "ААААААА \\\\\n",
        "ААААААВ \\\\\n",
        "ААААААИ \\\\\n",
        "ААААААО \\\\\n",
        "ААААААР \\\\\n",
        "ААААААТ \\\\\n",
        "ААААААФ \\\\\n",
        "АААААВА \\\\\n",
        "... \\\\\n",
        "\n",
        "Сколько слов, стоящих под нечётными номерами, содержит буквосочетание ТРИО. При этом слово не должно начинаться и заканчиваться на ТРИО."
      ],
      "metadata": {
        "id": "ZBUyCWFL16I1"
      }
    },
    {
      "cell_type": "code",
      "source": [
        "''.join(('А', 'А', 'А', 'А', 'А', 'А', 'А'))"
      ],
      "metadata": {
        "colab": {
          "base_uri": "https://localhost:8080/",
          "height": 35
        },
        "id": "npqwGPos4Dji",
        "outputId": "2d44647a-1b3e-4087-9eff-3b31e90f24f6"
      },
      "execution_count": null,
      "outputs": [
        {
          "output_type": "execute_result",
          "data": {
            "text/plain": [
              "'ААААААА'"
            ],
            "application/vnd.google.colaboratory.intrinsic+json": {
              "type": "string"
            }
          },
          "metadata": {},
          "execution_count": 11
        }
      ]
    },
    {
      "cell_type": "code",
      "source": [
        "word = 'АААТРИОАААА'\n",
        "\n",
        "'ТРИО' in word"
      ],
      "metadata": {
        "colab": {
          "base_uri": "https://localhost:8080/"
        },
        "id": "IFbou0eu4Ml4",
        "outputId": "1410db6d-0158-49cc-fd73-2aae357e1a44"
      },
      "execution_count": null,
      "outputs": [
        {
          "output_type": "execute_result",
          "data": {
            "text/plain": [
              "True"
            ]
          },
          "metadata": {},
          "execution_count": 13
        }
      ]
    },
    {
      "cell_type": "code",
      "source": [
        "'АААТРИОАААА'.startswith('ТРИО')\n",
        "\n",
        "'АААТРИОТРИО'.endswith('ТРИО')"
      ],
      "metadata": {
        "colab": {
          "base_uri": "https://localhost:8080/"
        },
        "id": "EJjF25W_4cor",
        "outputId": "4fd8cc29-8015-4a7a-ba21-eff6057f60a4"
      },
      "execution_count": null,
      "outputs": [
        {
          "output_type": "execute_result",
          "data": {
            "text/plain": [
              "True"
            ]
          },
          "metadata": {},
          "execution_count": 5
        }
      ]
    },
    {
      "cell_type": "code",
      "source": [
        "7**7"
      ],
      "metadata": {
        "colab": {
          "base_uri": "https://localhost:8080/"
        },
        "id": "JoAH7jdPkjgg",
        "outputId": "0fe8fe86-61dc-482e-ea10-f5d13226acb3"
      },
      "execution_count": null,
      "outputs": [
        {
          "output_type": "execute_result",
          "data": {
            "text/plain": [
              "823543"
            ]
          },
          "metadata": {},
          "execution_count": 7
        }
      ]
    },
    {
      "cell_type": "code",
      "execution_count": null,
      "metadata": {
        "colab": {
          "base_uri": "https://localhost:8080/"
        },
        "id": "SJ_JycMt149h",
        "outputId": "3ef5ac77-60df-4639-be46-2f23ac255b98"
      },
      "outputs": [
        {
          "output_type": "execute_result",
          "data": {
            "text/plain": [
              "823543"
            ]
          },
          "metadata": {},
          "execution_count": 8
        }
      ],
      "source": [
        "from itertools import product, combinations\n",
        "\n",
        "letters = ['Ф', 'А', 'В', 'О', 'Р', 'И', 'Т']\n",
        "letters.sort()\n",
        "\n",
        "cnt = 0\n",
        "combs = list(product(letters, repeat=7))\n",
        "len(combs)"
      ]
    },
    {
      "cell_type": "code",
      "source": [
        "for i in range(len(combs)):\n",
        "    if (i + 1) % 2 != 0:\n",
        "        word = ''.join(combs[i])\n",
        "        if ('ТРИО' in word) and (word.startswith('ТРИО') == False) and (word.endswith('ТРИО') == False):\n",
        "            cnt += 1\n",
        "\n",
        "cnt"
      ],
      "metadata": {
        "colab": {
          "base_uri": "https://localhost:8080/"
        },
        "id": "1Te0jBmKknWV",
        "outputId": "d9a6665e-6345-4c3c-b38b-492b45d05804"
      },
      "execution_count": null,
      "outputs": [
        {
          "output_type": "execute_result",
          "data": {
            "text/plain": [
              "344"
            ]
          },
          "metadata": {},
          "execution_count": 12
        }
      ]
    },
    {
      "cell_type": "markdown",
      "source": [
        "# 2.\n",
        "\n",
        "Маша составляет слова из шести букв, в которых есть только буквы из слова ГИПЕРБОЛА, причём на первом и последнем месте не может быть гласной вообще, а на любой другой позиции она не может быть с двух сторон окружена согласными. То есть сочетание БОЛ не может встречаться в слове, а словосочетания АОЛ или БОИ может. Каждая из других допустимых букв может встречаться в слове любое количество раз или не встречаться совсем. Словом считается любая допустимая последовательность букв, не обязательно осмысленная.\n",
        "\n",
        "Сколько существует таких слов, которые может написать Маша?"
      ],
      "metadata": {
        "id": "dp9LbGH1LkIp"
      }
    },
    {
      "cell_type": "code",
      "source": [
        "from itertools import product\n",
        "\n",
        "alphabet = set('ГИПЕРБОЛА')\n",
        "\n",
        "len(list(product(alphabet, repeat=6)))"
      ],
      "metadata": {
        "colab": {
          "base_uri": "https://localhost:8080/"
        },
        "id": "nKaQRGeVM7mY",
        "outputId": "14edc069-8501-4cc9-e232-96ddaf2f2a2e"
      },
      "execution_count": null,
      "outputs": [
        {
          "output_type": "execute_result",
          "data": {
            "text/plain": [
              "531441"
            ]
          },
          "metadata": {},
          "execution_count": 14
        }
      ]
    },
    {
      "cell_type": "code",
      "source": [
        "all_words = list(product(alphabet, repeat=6))\n",
        "\n",
        "all_words[394:402]"
      ],
      "metadata": {
        "colab": {
          "base_uri": "https://localhost:8080/"
        },
        "id": "XMm2Z7TtPSFU",
        "outputId": "fe29ba57-b033-4bc1-9df4-2d79fefdf51b"
      },
      "execution_count": null,
      "outputs": [
        {
          "output_type": "execute_result",
          "data": {
            "text/plain": [
              "[('Г', 'Г', 'Г', 'Р', 'П', 'П'),\n",
              " ('Г', 'Г', 'Г', 'Р', 'П', 'Л'),\n",
              " ('Г', 'Г', 'Г', 'Р', 'Л', 'Г'),\n",
              " ('Г', 'Г', 'Г', 'Р', 'Л', 'О'),\n",
              " ('Г', 'Г', 'Г', 'Р', 'Л', 'Б'),\n",
              " ('Г', 'Г', 'Г', 'Р', 'Л', 'Е'),\n",
              " ('Г', 'Г', 'Г', 'Р', 'Л', 'Р'),\n",
              " ('Г', 'Г', 'Г', 'Р', 'Л', 'И')]"
            ]
          },
          "metadata": {},
          "execution_count": 15
        }
      ]
    },
    {
      "cell_type": "code",
      "source": [
        "tmp = all_words[394:402]\n",
        "len(tmp)\n",
        "# ответ для этих 8ми примеров = 4"
      ],
      "metadata": {
        "colab": {
          "base_uri": "https://localhost:8080/"
        },
        "id": "Oal9dBLUPcxJ",
        "outputId": "c911120d-167d-4aeb-a1c7-848e2f694e73"
      },
      "execution_count": null,
      "outputs": [
        {
          "output_type": "execute_result",
          "data": {
            "text/plain": [
              "8"
            ]
          },
          "metadata": {},
          "execution_count": 29
        }
      ]
    },
    {
      "cell_type": "code",
      "source": [
        "cnt = 0\n",
        "vowel = ['И', 'Е', 'А', 'О']\n",
        "consonant = ['Г', 'П', 'Р', 'Б', 'Л']\n",
        "\n",
        "for word in all_words:\n",
        "    # на первом и последнем месте не может быть гласной вообще\n",
        "    if word[0] not in vowel and word[-1] not in vowel:\n",
        "        flag = True\n",
        "        cnt += 1\n",
        "        # print(word)\n",
        "        # # на любой другой позиции она не может быть с двух сторон окружена согласными\n",
        "        # for i in range(1, len(word)-1):\n",
        "        #     if word[i] in vowel:\n",
        "        #         if word[i-1] in consonant and word[i+1] in consonant:\n",
        "        #             flag = False\n",
        "        # if flag == True:\n",
        "        #     cnt += 1\n",
        "\n",
        "cnt"
      ],
      "metadata": {
        "colab": {
          "base_uri": "https://localhost:8080/"
        },
        "id": "IsnuSOvlPLs9",
        "outputId": "d9edf5c7-bc93-4926-d8aa-05a78e258cb6"
      },
      "execution_count": null,
      "outputs": [
        {
          "output_type": "execute_result",
          "data": {
            "text/plain": [
              "164025"
            ]
          },
          "metadata": {},
          "execution_count": 16
        }
      ]
    },
    {
      "cell_type": "code",
      "source": [
        "from itertools import product\n",
        "\n",
        "alphabet = set('ГИПЕРБОЛА')\n",
        "\n",
        "vowel = ['И', 'Е', 'А', 'О']\n",
        "consonant = ['Г', 'П', 'Р', 'Б', 'Л']\n",
        "\n",
        "cnt = 0\n",
        "all_words = list(product(alphabet, repeat=6))\n",
        "for word in all_words:\n",
        "    # на первом и последнем месте не может быть гласной вообще\n",
        "    if word[0] not in vowel and word[-1] not in vowel:\n",
        "        flag = True\n",
        "        # print(word)\n",
        "        # на любой другой позиции она не может быть с двух сторон окружена согласными\n",
        "        for i in range(1, len(word)-1):\n",
        "            if word[i] in vowel:\n",
        "                if word[i-1] in consonant and word[i+1] in consonant:\n",
        "                    flag = False\n",
        "        if flag == True:\n",
        "            cnt += 1\n",
        "\n",
        "cnt\n",
        "# 68025"
      ],
      "metadata": {
        "colab": {
          "base_uri": "https://localhost:8080/"
        },
        "id": "Cy1AoFprLtbn",
        "outputId": "b6e747b8-2ad3-4e6a-e238-4274ec6cc8bc"
      },
      "execution_count": null,
      "outputs": [
        {
          "output_type": "execute_result",
          "data": {
            "text/plain": [
              "68025"
            ]
          },
          "metadata": {},
          "execution_count": 35
        }
      ]
    },
    {
      "cell_type": "markdown",
      "source": [
        "# 3.\n",
        "\n",
        "Рассмотрим шестнадцатеричные четырёхзначные числа. Сколько существует таких чисел, у которых:\n",
        "\n",
        "- В записи числа присутствует две чётные и две нечётные цифры.\n",
        "- Сумма чётных цифр равна сумме нечётных цифр.\n",
        "- Ни одна из цифр не повторяется."
      ],
      "metadata": {
        "id": "9NwsjwcJQqij"
      }
    },
    {
      "cell_type": "code",
      "source": [
        "# Как можно перебрать все дясятичные 4-х значные числа?\n",
        "# Но надо убирать 0 в начале\n",
        "alphabet = set('0123456789')\n",
        "\n",
        "all_nums = list(product(alphabet, repeat=4))\n",
        "\n",
        "print(len(all_nums))\n",
        "\n",
        "cnt = 0\n",
        "for i in all_nums:\n",
        "    if i[0] != '0':\n",
        "        cnt += 1\n",
        "cnt"
      ],
      "metadata": {
        "colab": {
          "base_uri": "https://localhost:8080/"
        },
        "id": "P3K4n1x5Rm7h",
        "outputId": "ad9e783e-d88e-4ff9-812f-4b073835badf"
      },
      "execution_count": null,
      "outputs": [
        {
          "output_type": "stream",
          "name": "stdout",
          "text": [
            "10000\n"
          ]
        },
        {
          "output_type": "execute_result",
          "data": {
            "text/plain": [
              "9000"
            ]
          },
          "metadata": {},
          "execution_count": 41
        }
      ]
    },
    {
      "cell_type": "code",
      "source": [
        "# проверим\n",
        "len([i for i in range(1000, 10000)])"
      ],
      "metadata": {
        "colab": {
          "base_uri": "https://localhost:8080/"
        },
        "id": "z34KgvKPRsHl",
        "outputId": "35bb13ae-8fc3-497b-a995-10cb5a0c2eaf"
      },
      "execution_count": null,
      "outputs": [
        {
          "output_type": "execute_result",
          "data": {
            "text/plain": [
              "9000"
            ]
          },
          "metadata": {},
          "execution_count": 42
        }
      ]
    },
    {
      "cell_type": "code",
      "source": [
        "from itertools import product\n",
        "\n",
        "# шестнадцатеричные четырёхзначные числа\n",
        "alphabet = set('0123456789ABCDEF')\n",
        "\n",
        "all_nums = list(product(alphabet, repeat=4))\n",
        "\n",
        "all_nums[555:558]"
      ],
      "metadata": {
        "colab": {
          "base_uri": "https://localhost:8080/"
        },
        "id": "b1Qu0sbxU8Bg",
        "outputId": "0e36ae8a-3f78-4718-86d5-1241706dfa94"
      },
      "execution_count": null,
      "outputs": [
        {
          "output_type": "execute_result",
          "data": {
            "text/plain": [
              "[('D', '8', '8', '7'), ('D', '8', '8', 'E'), ('D', '8', '8', '5')]"
            ]
          },
          "metadata": {},
          "execution_count": 72
        }
      ]
    },
    {
      "cell_type": "code",
      "source": [
        "int('A', 16)"
      ],
      "metadata": {
        "colab": {
          "base_uri": "https://localhost:8080/"
        },
        "id": "J4TvLP2SXTGh",
        "outputId": "ecc44c49-4b80-4e12-923c-338f9718b5e3"
      },
      "execution_count": null,
      "outputs": [
        {
          "output_type": "execute_result",
          "data": {
            "text/plain": [
              "10"
            ]
          },
          "metadata": {},
          "execution_count": 71
        }
      ]
    },
    {
      "cell_type": "code",
      "source": [
        "cnt = 0\n",
        "\n",
        "for num in all_nums:\n",
        "    chet_count = 0\n",
        "    nechet_count = 0\n",
        "    chet_digits = []\n",
        "    nechet_digits = []\n",
        "\n",
        "    # Уберем лишние комбинации, которые начинаются с 0\n",
        "    if num[0] != '0':\n",
        "        # перебираем по цифре\n",
        "        for digit in num:\n",
        "            # считаем кол-в четных цифр\n",
        "            if int(digit, 16) % 2 == 0:\n",
        "                chet_digits.append(digit)\n",
        "                chet_count += 1\n",
        "            # считаем кол-во нечетных цифр\n",
        "            if int(digit, 16) % 2 != 0:\n",
        "                nechet_count += 1\n",
        "                nechet_digits.append(digit)\n",
        "\n",
        "        # В записи числа присутствует две чётные и две нечётные цифры\n",
        "        if chet_count == 2 and nechet_count == 2:\n",
        "            s1 = sum([int(j, 16) for j in chet_digits])\n",
        "            s2 = sum([int(j, 16) for j in nechet_digits])\n",
        "\n",
        "            all_len = len(chet_digits) + len(nechet_digits)\n",
        "            all_uniq_len = len(set(chet_digits)) + len(set(nechet_digits))\n",
        "\n",
        "            # Сумма чётных цифр равна сумме нечётных цифр\n",
        "            # Ни одна из цифр не повторяется\n",
        "            if s1 == s2 and all_len == all_uniq_len:\n",
        "                cnt += 1\n",
        "\n",
        "cnt\n",
        "# 1560"
      ],
      "metadata": {
        "colab": {
          "base_uri": "https://localhost:8080/"
        },
        "id": "OTcrUdq1SeCg",
        "outputId": "820e3884-4083-43ee-ab6d-1530982083dc"
      },
      "execution_count": null,
      "outputs": [
        {
          "output_type": "execute_result",
          "data": {
            "text/plain": [
              "1560"
            ]
          },
          "metadata": {},
          "execution_count": 73
        }
      ]
    }
  ]
}