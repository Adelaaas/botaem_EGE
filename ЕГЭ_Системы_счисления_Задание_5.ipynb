{
  "nbformat": 4,
  "nbformat_minor": 0,
  "metadata": {
    "colab": {
      "provenance": []
    },
    "kernelspec": {
      "name": "python3",
      "display_name": "Python 3"
    },
    "language_info": {
      "name": "python"
    }
  },
  "cells": [
    {
      "cell_type": "markdown",
      "source": [
        "# 1.\n",
        "\n",
        "На вход алгоритма подается натуральное число $N$. Алгоритм строит по нему новое число $R$ следующим образом.\n",
        "\n",
        "- Строится троичная запись числа $N$.\n",
        "- Все цифры в записи сортируются по убыванию\n",
        "- Максимальная цифра числа записывается в конец записи\n",
        "- Полученная таким образом запись является троичной записью искомого числа $R$.\n",
        "\n",
        "Пример:\n",
        "\n",
        "$123 → 11120_3 → 21110_3 → 211102_3 → 605$\n",
        "\n",
        "Укажите какое наибольшее число $R$, меньшее $1200$ может быть получено в результате работы алгоритма. В ответе укажите число $R$ в десятичной системе счисления."
      ],
      "metadata": {
        "id": "8btvS7RIzcD5"
      }
    },
    {
      "cell_type": "code",
      "execution_count": null,
      "metadata": {
        "colab": {
          "base_uri": "https://localhost:8080/"
        },
        "id": "AJjbjGYyzYAU",
        "outputId": "82a7928e-7e49-41bf-b2ea-047c0907e865"
      },
      "outputs": [
        {
          "output_type": "stream",
          "name": "stdout",
          "text": [
            "1111011\n",
            "173\n",
            "7b\n"
          ]
        }
      ],
      "source": [
        "print(bin(123)[2:]) # двоичная запись\n",
        "print(oct(123)[2:]) # восьмиричная\n",
        "print(hex(123)[2:]) # шестнадцатеричная"
      ]
    },
    {
      "cell_type": "code",
      "source": [
        "def convert_to(number, base, upper=False):\n",
        "    digits = '0123456789abcdefghijklmnopqrstuvwxyz'\n",
        "    if base > len(digits): return None\n",
        "    result = ''\n",
        "    while number > 0:\n",
        "        result = digits[number % base] + result\n",
        "        number //= base\n",
        "    return result.upper() if upper else result"
      ],
      "metadata": {
        "id": "FuMjhKMN0cOD"
      },
      "execution_count": null,
      "outputs": []
    },
    {
      "cell_type": "code",
      "source": [
        "N = 1\n",
        "max_r = 0\n",
        "for N in range(10000, 1, -1):\n",
        "    # Строится троичная запись числа N\n",
        "    R = convert_to(N, 3)\n",
        "\n",
        "    # Все цифры в записи сортируются по убыванию\n",
        "    R = list(map(int, list(R)))\n",
        "    R = sorted(R, reverse=True)\n",
        "\n",
        "    # Максимальная цифра числа записывается в конец записи\n",
        "    R.append(max(R))\n",
        "\n",
        "    R = list(map(str, R))\n",
        "    # Полученная таким образом запись является троичной записью искомого числа R\n",
        "    # print(R)\n",
        "\n",
        "    # Переводим в десятичную\n",
        "    R = int(''.join(R), 3)\n",
        "    if R < 1200:\n",
        "        max_r = max(max_r, R)\n",
        "\n",
        "max_r"
      ],
      "metadata": {
        "colab": {
          "base_uri": "https://localhost:8080/"
        },
        "id": "ncwaPkJu0hUr",
        "outputId": "e7b73a0d-f0b4-477f-a14e-06ed9bb409aa"
      },
      "execution_count": null,
      "outputs": [
        {
          "output_type": "execute_result",
          "data": {
            "text/plain": [
              "1093"
            ]
          },
          "metadata": {},
          "execution_count": 69
        }
      ]
    },
    {
      "cell_type": "markdown",
      "source": [
        "# 2.\n",
        "\n",
        "На вход алгоритма подаётся натуральное число $N$. Алгоритм строит по нему новое число $R$ следующим образом.\n",
        "\n",
        "- Строится запись числа $N$ в системе счисления с основанием $12$.\n",
        "- Далее эта запись обрабатывается по следующему правилу:\n",
        "    - если число $N$ делится на 4, то слева к нему приписывается «2», а справа «64»;\n",
        "    - если число $N$ на 4 не делится, то в конец числа дописывается его максимальная цифра в системе счисления с основанием 12.\n",
        "\n",
        "- Полученная таким образом запись является двенадцатеричной записью искомого числа R.\n",
        "- Результат переводится в десятичную систему и выводится на экран.\n",
        "\n",
        "Например, для исходного числа $11 = B_{12}$ результатом является число $BB_{12} = 143$, а для исходного числа\n",
        "$12=10_{12}$ это число $21064_{12}=43276$.\n",
        "\n",
        "Укажите минимальное число $R$, большее $1799$, которое может быть получено с помощью описанного алгоритма. В ответе запишите это число в десятичной системе счисления."
      ],
      "metadata": {
        "id": "I1caorbq8ZZ1"
      }
    },
    {
      "cell_type": "code",
      "source": [
        "def convert_to(number, base, upper=True):\n",
        "    digits = '0123456789abcdefghijklmnopqrstuvwxyz'\n",
        "    if base > len(digits): return None\n",
        "    result = ''\n",
        "    while number > 0:\n",
        "        result = digits[number % base] + result\n",
        "        number //= base\n",
        "    return result.upper() if upper else result"
      ],
      "metadata": {
        "id": "liTSEuZE9Lom"
      },
      "execution_count": null,
      "outputs": []
    },
    {
      "cell_type": "code",
      "source": [
        "N = 12\n",
        "\n",
        "R = convert_to(N, 12)\n",
        "\n",
        "# если число  N  делится на 4, то слева к нему приписывается «2», а справа «64»\n",
        "if N % 4 == 0:\n",
        "    R = '2' + R + '64'\n",
        "else:\n",
        "    # если число  N  на 4 не делится,\n",
        "    # то в конец числа дописывается его максимальная цифра в с.с. с основанием 12\n",
        "    R = R + max(R)\n",
        "\n",
        "int(R, 12)"
      ],
      "metadata": {
        "colab": {
          "base_uri": "https://localhost:8080/"
        },
        "id": "l5qr1vja4shZ",
        "outputId": "e9778584-cc3b-417f-f887-6b5fc6e4e8bf"
      },
      "execution_count": null,
      "outputs": [
        {
          "output_type": "execute_result",
          "data": {
            "text/plain": [
              "43276"
            ]
          },
          "metadata": {},
          "execution_count": 75
        }
      ]
    },
    {
      "cell_type": "code",
      "source": [
        "# Укажите минимальное число  R , большее  1799\n",
        "min_r = 10000000\n",
        "for N in range(1, 1000):\n",
        "    R = convert_to(N, 12)\n",
        "\n",
        "    # если число  N  делится на 4, то слева к нему приписывается «2», а справа «64»\n",
        "    if N % 4 == 0:\n",
        "        R = '2' + R + '64'\n",
        "    else:\n",
        "        # если число  N  на 4 не делится,\n",
        "        # то в конец числа дописывается его максимальная цифра в с.с. с основанием 12\n",
        "        R = R + max(R)\n",
        "\n",
        "    R = int(R, 12)\n",
        "\n",
        "    # Укажите минимальное число  R , большее  1799\n",
        "    if R > 1799:\n",
        "        min_r = min(R, min_r)\n",
        "\n",
        "min_r\n",
        "# 1806"
      ],
      "metadata": {
        "colab": {
          "base_uri": "https://localhost:8080/"
        },
        "id": "M-4F5TFC-PgV",
        "outputId": "4dff953c-2a06-44dd-9251-29bed5be9384"
      },
      "execution_count": null,
      "outputs": [
        {
          "output_type": "execute_result",
          "data": {
            "text/plain": [
              "1806"
            ]
          },
          "metadata": {},
          "execution_count": 83
        }
      ]
    },
    {
      "cell_type": "markdown",
      "source": [
        "# 3.\n",
        "\n",
        "На вход алгоритма подаётся натуральное число $N$. Алгоритм строит по нему новое число $R$ следующим образом.\n",
        "\n",
        "- Строится троичная запись числа $N$.\n",
        "- Далее эта запись обрабатывается по следующему правилу:\n",
        "    - если число N делится на 3, то слева к нему приписывается «1», а справа «02»;\n",
        "    - если число N на 3 не делится, то остаток от деления на 3 умножается на 4, переводится в троичную запись и дописывается в конец числа.\n",
        "- Полученная таким образом запись является троичной записью искомого числа R.\n",
        "- Результат переводится в десятичную систему и выводится на экран.\n",
        "\n",
        "Например, для исходного числа $11=102_3$ результатом является число $10222_3=107$, а для исходного числа\n",
        "$12=110_3$ это число $111002_3=353$.\n",
        "\n",
        "Укажите максимальное число $N$, после обработки которого с помощью этого алгоритма получается число $R$, меньшее 199."
      ],
      "metadata": {
        "id": "x5bmBJCV_MRL"
      }
    },
    {
      "cell_type": "code",
      "source": [
        "def convert_to(number, base):\n",
        "    digits = '0123456789abcdefghijklmnopqrstuvwxyz'\n",
        "    result = ''\n",
        "    while number > 0:\n",
        "        result = digits[number % base] + result\n",
        "        number //= base\n",
        "    return result.upper()"
      ],
      "metadata": {
        "id": "ZCzSa0J4_pOZ"
      },
      "execution_count": null,
      "outputs": []
    },
    {
      "cell_type": "code",
      "source": [
        "N = 12\n",
        "\n",
        "max_n = 1\n",
        "for N in range(1000, 1, -1):\n",
        "    R = convert_to(N, 3)\n",
        "\n",
        "    # если число N делится на 3, то слева к нему приписывается «1», а справа «02»\n",
        "    if N % 3 == 0:\n",
        "        R = '1' + R + '02'\n",
        "    else:\n",
        "        # если число N на 3 не делится,\n",
        "        # то остаток от деления на 3 умножается на 4,\n",
        "        # переводится в троичную запись и дописывается в конец числа\n",
        "        R = R + convert_to(N % 3 * 4, 3)\n",
        "\n",
        "    R = int(R, 3)\n",
        "\n",
        "    # Укажите максимальное число  N\n",
        "    # после обработки которого с помощью этого алгоритма получается число  R , меньшее 199\n",
        "    if R < 199:\n",
        "        max_n = max(N, max_n)\n",
        "# 20\n",
        "max_n"
      ],
      "metadata": {
        "colab": {
          "base_uri": "https://localhost:8080/"
        },
        "id": "BkkSE5bz_sUy",
        "outputId": "5eef99f2-823d-4d46-b656-b623ab3dacad"
      },
      "execution_count": null,
      "outputs": [
        {
          "output_type": "execute_result",
          "data": {
            "text/plain": [
              "20"
            ]
          },
          "metadata": {},
          "execution_count": 90
        }
      ]
    },
    {
      "cell_type": "markdown",
      "source": [
        "# 4.\n",
        "\n",
        "На вход алгоритма подаётся число $N$. Алгоритм строит по нему новое число $R$ следующим образом:\n",
        "\n",
        "- Строится восьмеричная запись числа $N$.\n",
        "- Далее эта запись обрабатывается по следующему правилу:\n",
        "    - если число N нечётное, то к этой записи справа дописываются два нуля 00;\n",
        "    - если число N чётное, то к записи справа дописывается 10\n",
        "- Затем число $R$ переводится в десятичную систему счисления.\n",
        "\n",
        "Укажите количество трёхзначных десятичных чисел, которые можно получить по этому алгоритму."
      ],
      "metadata": {
        "id": "LSO-ftMqzL3X"
      }
    },
    {
      "cell_type": "code",
      "source": [
        "N = 10\n",
        "cnt = 0\n",
        "for N in range(1, 10000):\n",
        "    R = oct(N)[2:]\n",
        "\n",
        "    if N % 2 != 0:\n",
        "        R = R + '00'\n",
        "    else:\n",
        "        R = R + '10'\n",
        "\n",
        "    R = int(R, 8)\n",
        "    # print(R)\n",
        "\n",
        "    if len(str(R)) == 3:\n",
        "        cnt += 1\n",
        "    elif len(str(R)) > 3:\n",
        "        break\n",
        "\n",
        "cnt"
      ],
      "metadata": {
        "colab": {
          "base_uri": "https://localhost:8080/"
        },
        "id": "xcNIfeJpzb2L",
        "outputId": "4dd34655-d9df-4cc6-f3e8-22c1346d4868"
      },
      "execution_count": null,
      "outputs": [
        {
          "output_type": "execute_result",
          "data": {
            "text/plain": [
              "14"
            ]
          },
          "metadata": {},
          "execution_count": 9
        }
      ]
    },
    {
      "cell_type": "markdown",
      "source": [
        "# 5.\n",
        "\n",
        "Существуют числа, обладающие свойствами:\n",
        "\n",
        "- Число делится на все свои цифры;\n",
        "- Число, полученное из данного числа записью цифр в обратном порядке, тоже делится на все свои цифры.\n",
        "\n",
        "Примером такого числа является 216. Сколько существует трёхзначных чисел, без нулей в записи, обладающих этими свойствами?"
      ],
      "metadata": {
        "id": "6XKJOiDh0X5g"
      }
    }
  ]
}